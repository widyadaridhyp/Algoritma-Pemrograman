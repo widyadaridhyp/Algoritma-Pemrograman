{
 "cells": [
  {
   "cell_type": "code",
   "execution_count": 63,
   "metadata": {},
   "outputs": [
    {
     "name": "stdout",
     "output_type": "stream",
     "text": [
      "Masukkan jumlah digit: 2\n",
      "Masukkan 2 digit angka: 11\n",
      "0 angka benar, 0 di posisi yang benar\n",
      "Masukkan 2 digit angka: 12\n",
      "0 angka benar, 0 di posisi yang benar\n",
      "Masukkan 2 digit angka: 13\n",
      "0 angka benar, 0 di posisi yang benar\n",
      "Masukkan 2 digit angka: 14\n",
      "0 angka benar, 0 di posisi yang benar\n",
      "Masukkan 2 digit angka: 15\n",
      "0 angka benar, 0 di posisi yang benar\n",
      "Masukkan 2 digit angka: 16\n",
      "1 angka benar, 1 di posisi yang benar\n",
      "Masukkan 2 digit angka: 26\n",
      "1 angka benar, 1 di posisi yang benar\n",
      "Masukkan 2 digit angka: 36\n",
      "1 angka benar, 1 di posisi yang benar\n",
      "Masukkan 2 digit angka: 46\n",
      "1 angka benar, 1 di posisi yang benar\n",
      "Masukkan 2 digit angka: 56\n",
      "1 angka benar, 1 di posisi yang benar\n",
      "Masukkan 2 digit angka: 66\n",
      "2 angka benar, 1 di posisi yang benar\n",
      "Masukkan 2 digit angka: 61\n",
      "1 angka benar, 0 di posisi yang benar\n",
      "Masukkan 2 digit angka: 76\n",
      "1 angka benar, 1 di posisi yang benar\n",
      "Masukkan 2 digit angka: 86\n",
      "1 angka benar, 1 di posisi yang benar\n",
      "Masukkan 2 digit angka: 96\n",
      "Selamat tebakanmu benar!\n",
      "Kamu selesai dalam 15 percobaan\n"
     ]
    }
   ],
   "source": [
    "import random\n",
    "\n",
    "digit=int(input('Masukkan jumlah digit: '))#Untuk memnentukan digit atau len dari angka random\n",
    "\n",
    "angka=random.randrange(10**(digit-1),10**(digit))#10**(digit-1) menandakan len minimal angka random, sedangkan 10**(digit) menandakan len maksimal angka random\n",
    "angka=str(angka)#Kenapa pakai str? Agar len angkanya dapat diketahui. Selain itu, untuk mengetahui elemen dari angka itu ada apa saja.\n",
    "\n",
    "tebak=int(input('Masukkan '+str(digit)+' digit angka: '))#Angka tebakannya nanti\n",
    "\n",
    "percobaan=1#Awal dari percobaan diinisialkan 1 \n",
    "\n",
    "while tebak!=angka:#Mulai masuk loop jika tebakan kita tidak sama dengan angka random.\n",
    "    angkasama=0 #Angkasama dan posisi=0 harus di dalam while tidak boleh di luar while, sehingga angkanya akan tereset jika salah.\n",
    "    posisi=0\n",
    "    for i in range(len(angka)):#elemen i dari angka.\n",
    "        tebak=str(tebak)#Ini harus menggunakan str\n",
    "        for j in range(digit):#elemen j dari tebak. Kenapa pakai digit? Karena ketika dicoba menggunakan len tebak error. Menggunakan ini juga akan tetap error sebenarnya apabila digunakan untuk tebak yang tidak memiliki len yang sama dengan digit.\n",
    "            if j!=i:#Maksud yang ini itu adalah elemen dari tebak sama angka ada yang sama, tetapi bukan ditempat yang tepat\n",
    "                if tebak[j]==angka[i]:\n",
    "                    angkasama=angkasama+1#Oleh karena itu tandanya akan seperti ini.\n",
    "                if tebak[j]!=angka[i]:#Nah yang ini ketika elemen tebak dan angka tidak ada, sehingga nilainya akan tetap nol.\n",
    "                    angkasama=angkasama\n",
    "                    posisi=posisi\n",
    "            if j==i:#Untuk mencari elemen sama dan juga di tempat yang sama.\n",
    "                if tebak[j]==angka[i]:#Ini jika suatu elemen benar dan di tempat yang benar. Jika angkasama lebih besar dari posisi, ada nilai elemen yang sama, tetapi hanya ada satu di atau kurang dari jumlah angkasama. Oleh karena itu kita harus mengubah salah satu nilai elemen tersebut.\n",
    "                    posisi=posisi+1\n",
    "                    angkasama=angkasama+1\n",
    "                if tebak[j]!=angka[i]:#Kurang lebih sama seperti yang ada di j!=i.\n",
    "                    angkasama=angkasama\n",
    "                    posisi=posisi\n",
    "                    \n",
    "    if angkasama!=digit or angkasama!=posisi or posisi!=digit:#Kalau diperlukan percobaan lagi atau angkanya belum tepat akan mengarah ke sini\n",
    "        percobaan=percobaan+1#Untuk menandakan percobaan berikutnya sekaligus percobaan yang telah di lakukan.\n",
    "        print(str(angkasama)+' angka benar, '+str(posisi)+' di posisi yang benar')\n",
    "        tebak=int(input('Masukkan '+str(digit)+' digit angka: '))#Singkatnya ini balik ke awal.\n",
    "        \n",
    "if tebak==angka:#Ini jika nilai dari setiap elemen sudah sama atau benar.\n",
    "    print('Selamat tebakanmu benar!')\n",
    "    print('Kamu selesai dalam '+str(percobaan)+' percobaan')"
   ]
  },
  {
   "cell_type": "markdown",
   "metadata": {},
   "source": [
    "Program ini adalah program tebak-tebakan. Idenya adalah dengan menginput digit yang akan menjadi len untuk angka random.\n",
    "1. Menginput digit\n",
    "2. Merandom angka dengan panjang sesuai digit yang tadi diinput\n",
    "3. Angka random dipaksa untuk berubah menjadi string\n",
    "4. Menebak angka dengan menginput suatu angka dengan panjang angka sesuai dengan digit sebelumnya.\n",
    "5. Menginput percobaan mulai dari 1\n",
    "6. Masuk ke loop dengan inisiasi angkasama dan posisi=0\n",
    "7. Masuk ke loop untuk membuka elemen angka dan elemen tebak sama dan tepat atau belum.\n",
    "8. Jika belum akan terus dilakukan hingga dapat.\n",
    "9. Jika sudah benar makan permainan akan berakhir"
   ]
  }
 ],
 "metadata": {
  "kernelspec": {
   "display_name": "Python 3",
   "language": "python",
   "name": "python3"
  },
  "language_info": {
   "codemirror_mode": {
    "name": "ipython",
    "version": 3
   },
   "file_extension": ".py",
   "mimetype": "text/x-python",
   "name": "python",
   "nbconvert_exporter": "python",
   "pygments_lexer": "ipython3",
   "version": "3.8.8"
  }
 },
 "nbformat": 4,
 "nbformat_minor": 4
}
