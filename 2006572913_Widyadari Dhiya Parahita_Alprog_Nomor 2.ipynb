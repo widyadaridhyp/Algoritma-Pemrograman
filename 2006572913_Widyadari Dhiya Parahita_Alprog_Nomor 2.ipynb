{
 "cells": [
  {
   "cell_type": "code",
   "execution_count": 196,
   "metadata": {},
   "outputs": [],
   "source": [
    "import random\n",
    "def makansalak(total,percobaan,opsi): #Fungsi yang nanti akan dipanggil\n",
    "    jumlahhari=0 #Untuk awalan agar lebih jelas dari nol\n",
    "    if opsi==1: #opsi untuk menampilkan\n",
    "        m=1#Untuk loop karena tidak mungkin percobaannya langsung percobaan kedua tanpa melalui percobaan pertama.\n",
    "        while m<=percobaan:#Akan dilakukan loop untuk membuat beberapa suatu percobaan\n",
    "            print('Percobaan '+str(m)+':') #Untuk judul percobaan\n",
    "            print('-------------')#Pembatas\n",
    "            hari=1 #Mulai dari hari pertama\n",
    "            salak=total #Kenapa gak langsung total? Untuk mereset. Percobaan pertama salaknya akan sesuai dengan yang awal lagi bukan yang telah diganti.\n",
    "            while salak>0:#Mulai loop.Kalau salaknya lebih dari nol berarti masih dapat dimakan\n",
    "                a=random.randint(1,2)#Untuk mengacak dari 2 aktivitas\n",
    "                if a==1: #Aktivitas pertama\n",
    "                    salak=salak-1 #Salaknya dimakan 1 jadi berkurang\n",
    "                    print('Hari '+str(hari)+': Makan 1 salak') #Karena udah jelas dimakan 1 jadi langsung ditulis aja\n",
    "                    hari=hari+1 #Harinya bertambah untuk hari berikutnya\n",
    "                if a==2: #Aktivitas kedua\n",
    "                    if salak%2==0: #Jika salaknya berjumlah genap, hasil %2=0\n",
    "                        k=salak//4 #Jika salak berjumlah genap, yang dimakan seperempatnya\n",
    "                        salak=salak-k #Salak yang sebelumnya dikurang sama k karena k sama dengan salak yang sudah dimakan\n",
    "                        print('Hari '+str(hari)+': Makan '+str(k)+' salak')#str(hari) untuk menunjukkan hari keberapa, sedangkan str(k) untuk menunjukkan jumlah salak yang dimakan di hari itu\n",
    "                        hari=hari+1\n",
    "                    if salak%2==1: #Jika salak berjumlah ganjil, hasil %2=1\n",
    "                        k=salak//5+1 #Jika salak berjumlah ganjil, jumlah salak akan dibagi 5 kemudian ditambah 1. Itu yang dimakan\n",
    "                        salak=salak-k\n",
    "                        print('Hari '+str(hari)+': Makan '+str(k)+' salak')\n",
    "                        hari=hari+1\n",
    "            else:\n",
    "                m=m+1 #Untuk melakukan percobaan selanjutnya\n",
    "                jumlahhari=jumlahhari+hari-1 #setiap hari dari tiap percobaan akan dijumlahkan ke sini.\n",
    "        else:\n",
    "            return('Rata-rata hari: '+str(jumlahhari/percobaan)+' hari') #Jika semua percobaan dan harinya sudah selesai, dicari rata-rata dengan cara seluruh jumlah hari dalam tiap percobaan dibagi dengan percobaannya.\n",
    "    \n",
    "    if opsi==2: #opsi untuk tidak menampilkan\n",
    "        m=1 #Kurang lebih semuanya sama seperti opsi 1. Perbedaannya tidak menggunakan syntax print karena langsung mencari rata-ratanya.\n",
    "        while m<=percobaan:\n",
    "            hari=1\n",
    "            salak=total\n",
    "            while salak>0:\n",
    "                a=random.randint(1,2)\n",
    "                if a==1:\n",
    "                    salak=salak-1\n",
    "                    hari=hari+1\n",
    "                if a==2:\n",
    "                    if salak%2==0:\n",
    "                        k=salak//4\n",
    "                        salak=salak-k\n",
    "                        hari=hari+1\n",
    "                    if salak%2==1:\n",
    "                        k=salak//5+1\n",
    "                        salak=salak-k\n",
    "                        hari=hari+1\n",
    "            else:\n",
    "                m=m+1\n",
    "                jumlahhari=jumlahhari+hari-1\n",
    "        else:\n",
    "            return('Rata-rata hari: '+str(jumlahhari/percobaan)+' hari')\n",
    "    if opsi!=1 or opsi!=2: #Buat memberi peringatan opsinya hanya 2. Jadi pilih 1 atau 2\n",
    "        return('Opsi hanya ada 2. Pilih 1 atau 2')"
   ]
  },
  {
   "cell_type": "code",
   "execution_count": 201,
   "metadata": {},
   "outputs": [
    {
     "name": "stdout",
     "output_type": "stream",
     "text": [
      "Percobaan 1:\n",
      "-------------\n",
      "Hari 1: Makan 1 salak\n",
      "Hari 2: Makan 4 salak\n",
      "Hari 3: Makan 4 salak\n",
      "Hari 4: Makan 3 salak\n",
      "Hari 5: Makan 2 salak\n",
      "Hari 6: Makan 1 salak\n",
      "Hari 7: Makan 1 salak\n",
      "Hari 8: Makan 1 salak\n",
      "Hari 9: Makan 1 salak\n",
      "Hari 10: Makan 1 salak\n",
      "Hari 11: Makan 1 salak\n",
      "Percobaan 2:\n",
      "-------------\n",
      "Hari 1: Makan 5 salak\n",
      "Hari 2: Makan 4 salak\n",
      "Hari 3: Makan 3 salak\n",
      "Hari 4: Makan 1 salak\n",
      "Hari 5: Makan 1 salak\n",
      "Hari 6: Makan 1 salak\n",
      "Hari 7: Makan 1 salak\n",
      "Hari 8: Makan 1 salak\n",
      "Hari 9: Makan 1 salak\n",
      "Hari 10: Makan 1 salak\n",
      "Hari 11: Makan 1 salak\n"
     ]
    },
    {
     "data": {
      "text/plain": [
       "'Rata-rata hari: 11.0 hari'"
      ]
     },
     "execution_count": 201,
     "metadata": {},
     "output_type": "execute_result"
    }
   ],
   "source": [
    "makansalak(20,2,1)"
   ]
  },
  {
   "cell_type": "code",
   "execution_count": 202,
   "metadata": {},
   "outputs": [
    {
     "data": {
      "text/plain": [
       "'Rata-rata hari: 39.618 hari'"
      ]
     },
     "execution_count": 202,
     "metadata": {},
     "output_type": "execute_result"
    }
   ],
   "source": [
    "makansalak(1000,1000,2)"
   ]
  },
  {
   "cell_type": "markdown",
   "metadata": {},
   "source": [
    "Program ini adalah program yang akan berjalan jika kita memanggil suatu fungsi. Idenya adalah dengan kita memanggil fungsi tersebut kita akan mengetahui rata-rata hari dalam setiap percobaan.\n",
    "1. Membuat fungsi yang akan dipanggil nanti\n",
    "2. Membuat input dengan nilai nol agar dapat mentotal hari dari setiap percobaan.\n",
    "3. Membuat 2 opsi, ditampilkan pengerjaannya (setiap percobaan dan harinya diprint) dan tidak ditampilkan (langsung rata-rata).\n",
    "4. menginput m dengan m=1 yang bertanda bahwa percobaa dimulai dari percobaan pertama.\n",
    "5. Masuk ke loop\n",
    "6. Dibuat openingnya\n",
    "7. Menginput hari=1 yang berarti mulai dari hari pertama\n",
    "8. Menginput salak dengan total agar nanti dapat teriset untuk percobaan selanjutnya\n",
    "9. Masuk ke loop (di dalam loop ada loop)\n",
    "10. Merandom 2 aktivitas yang akan dilakukan\n",
    "11. Akan dibuat aktivitas dengan syarat tertentu\n",
    "12. Balik ke loop sebelumnya untuk melanjutkan percobaan berikutnya dan mentotal hari melakukan aktivitas tadi.\n",
    "13. Setelah selesai dibuat rata-rata hari dari beberapa percobaan"
   ]
  }
 ],
 "metadata": {
  "kernelspec": {
   "display_name": "Python 3",
   "language": "python",
   "name": "python3"
  },
  "language_info": {
   "codemirror_mode": {
    "name": "ipython",
    "version": 3
   },
   "file_extension": ".py",
   "mimetype": "text/x-python",
   "name": "python",
   "nbconvert_exporter": "python",
   "pygments_lexer": "ipython3",
   "version": "3.8.8"
  }
 },
 "nbformat": 4,
 "nbformat_minor": 4
}
