{
 "cells": [
  {
   "cell_type": "code",
   "execution_count": 2,
   "metadata": {},
   "outputs": [
    {
     "name": "stdout",
     "output_type": "stream",
     "text": [
      "Selamat datang di database mahasiswa Departemen Matematika FMIPA UI\n",
      "1. Untuk melihat isi database\n",
      "2. Untuk menambahkan data\n",
      "3. Untuk menghentikan program\n",
      "Masukkan pilihan anda: 2\n",
      "Masukkan Nama: Widya\n",
      "Masukkan NPM: 2006572913\n",
      "Masukkan pilihan anda: 1\n",
      "Berikut adalah Nama dan NPM mahasiswa Departemen Matematika FMIPA UI\n",
      "Widya2006572913\n",
      "Masukkan pilihan anda: 3\n"
     ]
    }
   ],
   "source": [
    "A='Selamat datang di database mahasiswa Departemen Matematika FMIPA UI'\n",
    "B='1. Untuk melihat isi database'\n",
    "C='2. Untuk menambahkan data'\n",
    "D='3. Untuk menghentikan program'\n",
    "print(A)\n",
    "print(B)\n",
    "print(C)\n",
    "print(D)\n",
    "\n",
    "while True:\n",
    "    n=int(input('Masukkan pilihan anda: '))\n",
    "    if n==1:\n",
    "        print('Berikut adalah Nama dan NPM mahasiswa Departemen Matematika FMIPA UI')\n",
    "        print(nama+npm)\n",
    "    elif n==2:\n",
    "        nama=input('Masukkan Nama: ')\n",
    "        npm=input('Masukkan NPM: ')\n",
    "    else:\n",
    "        break"
   ]
  },
  {
   "cell_type": "code",
   "execution_count": null,
   "metadata": {},
   "outputs": [],
   "source": [
    "\n"
   ]
  },
  {
   "cell_type": "code",
   "execution_count": null,
   "metadata": {},
   "outputs": [],
   "source": []
  }
 ],
 "metadata": {
  "kernelspec": {
   "display_name": "Python 3",
   "language": "python",
   "name": "python3"
  },
  "language_info": {
   "codemirror_mode": {
    "name": "ipython",
    "version": 3
   },
   "file_extension": ".py",
   "mimetype": "text/x-python",
   "name": "python",
   "nbconvert_exporter": "python",
   "pygments_lexer": "ipython3",
   "version": "3.8.8"
  }
 },
 "nbformat": 4,
 "nbformat_minor": 4
}
