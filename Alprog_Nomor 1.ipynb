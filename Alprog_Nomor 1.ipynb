{
 "cells": [
  {
   "cell_type": "code",
   "execution_count": 3,
   "metadata": {},
   "outputs": [],
   "source": [
    "def passwordchecker(a): #Fungsi yang akan dipanggil nanti.\n",
    "    rules=[]#Akan terpenuhi jika ada aturan yang tidak terpenunhi\n",
    "    \n",
    "    if len(a)<8 or len(a)>32: #Untuk peraturan pertama dikatakan bahwa digit karakternya harus di antara 8 sampai 32. Berarti dia bakal salah disebaliknya(tidak memenuhi)\n",
    "        rules.append(1) #Oleh karena itu, di sini ditambahkan 1 untuk rulesnya. Hal itu berlaku jika len dari defnya itu tidak terpenuhi.\n",
    "    if not any (character.isupper() for character in a):#.isupper itu digunakan untuk mencari apakah ada huruf kapital atau tidak. Agar rulesnya terpenuhi ditambahkan not\n",
    "        rules.append(2)#Kemudian, di sini ditambahkan 2 karena dia tidak memenuhi peraturan kedua.\n",
    "    if not any (character.islower() for character in a):#.islower itu digunakan untuk mencari apakah ada ada huruf yang bukan kapital. Sama seperti sebelumnya, supaya rules terpenuhi hingga membentuk sebuah matriks ditambahkan lah not sekaligus menandakan bahwa di def atau passwordnya itu tidak mengandung huruf yang bukan kapital.\n",
    "        rules.append(3)#Ini sama seperti sebelumnya. Karena tidak mengandung huruf kecil, ditambahkan 3 yang menandakan bahwa rules 3 itu tidak terpenuhi.\n",
    "    if not any (character.isnumeric() for character in a):#Aturan ke 4 harus terdapat angka. Jika tidak terdapat angka yang ini juga akan berlaku seperti yang sebelumnya. Untuk mengindentifikasinya juga menggunakan any sama seperti sebelumnya. Perbedaannya hanya pada .isnumeric.\n",
    "        rules.append(4)#Intinya sama seperti sebelumnya. Karena tidak ada angka, ditambah 4 untuk penanda di dalam array rules.\n",
    "    if len(set(a))-len(a)!=0:#set(a) untuk karakter identik. Kalau digit set(a) dikurang digit a tidak sama dengan nol\n",
    "        for i in range(len(a)):#Ini untuk mencari setiap elemen a yang akan di lanjutkan di bawah.\n",
    "            if a[i-1]==a[i]==a[i+1]: #Ini buat mengidentifikasi. Kalau karakter sebelum sama setelahnya sama dengan karakter yang ditengah, tiga karakter sama berurutan, tandanya dia tidak memenuhi aturan.\n",
    "                rules.append(5)#Oleh karena itu, di sini ditambahkan 5 untuk rulesnya.\n",
    "                \n",
    "    if len(rules)!=0:#Kalau rules yang tadi ditambah-tambah berarti kan dia akan memiliki digit atau len. Tandanya, tidak memenuhi aturan tertentu tergantung angka berapa yang ditambahkan.\n",
    "        return (1,rules)#Kenapa (1,rules)? 1 di sini untuk memandakan passwordnya masih lemah. Jika password lemah berarti telah melanggar aturan tertentu yang sudah ditentukan. Oleh karena itu, array tadi ditambahkan di sini untuk menandakannya aturan apa saja yang tidak terpenuhi.\n",
    "             \n",
    "    else:#Ini untuk benar semua atau singkatnya password memenuhi kriteria\n",
    "        return 0"
   ]
  },
  {
   "cell_type": "code",
   "execution_count": 4,
   "metadata": {},
   "outputs": [
    {
     "data": {
      "text/plain": [
       "0"
      ]
     },
     "execution_count": 4,
     "metadata": {},
     "output_type": "execute_result"
    }
   ],
   "source": [
    "passwordchecker('ABCD226110b')"
   ]
  },
  {
   "cell_type": "code",
   "execution_count": 5,
   "metadata": {},
   "outputs": [
    {
     "data": {
      "text/plain": [
       "(1, [2])"
      ]
     },
     "execution_count": 5,
     "metadata": {},
     "output_type": "execute_result"
    }
   ],
   "source": [
    "passwordchecker('abcd226110b')"
   ]
  },
  {
   "cell_type": "code",
   "execution_count": 6,
   "metadata": {},
   "outputs": [
    {
     "data": {
      "text/plain": [
       "(1, [3])"
      ]
     },
     "execution_count": 6,
     "metadata": {},
     "output_type": "execute_result"
    }
   ],
   "source": [
    "passwordchecker('ABCD226110A')"
   ]
  },
  {
   "cell_type": "code",
   "execution_count": 7,
   "metadata": {},
   "outputs": [
    {
     "data": {
      "text/plain": [
       "(1, [2, 3, 5])"
      ]
     },
     "execution_count": 7,
     "metadata": {},
     "output_type": "execute_result"
    }
   ],
   "source": [
    "passwordchecker('222110369')"
   ]
  },
  {
   "cell_type": "markdown",
   "metadata": {},
   "source": [
    "Program ini adalah program yang dibuat untuk memanggil suatu fungsi.\n",
    "Idenya adalah dengan membuat sebuah list kosong. Elemen list tersebut akan bertambah jika password tidak sesuai dengan kriteria.\n",
    "1. Membuat fungsi yang akan dipanggil. Fungsi tersebut bernama passwordchecker.\n",
    "2. Membuat list kosong\n",
    "3. Syarat yang pertama \"8<=panjang password<=32\". Untuk membuat list bertambah kita ganti jadi sebaliknya\n",
    "4. Tambahkan 1 ke dalam list sebagai tanda melanggar aturan\n",
    "5. Menggunakan if not yang berarti kebalikannya dari peraturan. Kemudian, dilanjutkan dengan any()\n",
    "6. Menambahkan angka sebagai tanda itu aturan ke sekian yang tidak terpenuhi. Begitu seterusnya.\n",
    "7. Mengidentifikasi apakah password tersebut identik atau tidak dengan mengurangkan panjang password identik dan yang biasa.\n",
    "8. Jika elemen password tersebut sama secara berurutan berarti ia melanggar aturan, sehingga akan ditambahkan lagi angka aturannya.\n",
    "9. Jika list kosong tadi memiliki isi, berarti password tersebut lemah. Oleh karena itu akan diprint atau direturn dan rules mana saja yang telah dilanggar\n",
    "10. Jika list itu kosong, password tersebut memenuhi semua aturan, sehingga akan direturn 0."
   ]
  }
 ],
 "metadata": {
  "kernelspec": {
   "display_name": "Python 3",
   "language": "python",
   "name": "python3"
  },
  "language_info": {
   "codemirror_mode": {
    "name": "ipython",
    "version": 3
   },
   "file_extension": ".py",
   "mimetype": "text/x-python",
   "name": "python",
   "nbconvert_exporter": "python",
   "pygments_lexer": "ipython3",
   "version": "3.8.8"
  }
 },
 "nbformat": 4,
 "nbformat_minor": 4
}
