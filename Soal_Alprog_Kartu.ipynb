{
  "nbformat": 4,
  "nbformat_minor": 0,
  "metadata": {
    "colab": {
      "name": "Soal_Alprog_Kartu",
      "provenance": []
    },
    "kernelspec": {
      "name": "python3",
      "display_name": "Python 3"
    },
    "language_info": {
      "name": "python"
    }
  },
  "cells": [
    {
      "cell_type": "code",
      "metadata": {
        "id": "PVdWzlANhPEK"
      },
      "source": [
        "from random import *\n",
        "from sympy import *\n",
        "\n",
        "def start():\n",
        "  \n",
        "  while True:\n",
        "    kartu = ['ace', 2, 3, 4, 5, 6, 7, 8, 9, 10, 'jack', 'queen', 'king']\n",
        "    deck = kartu.copy()\n",
        "    score = 0\n",
        "\n",
        "    while len(deck) > 1:\n",
        "      print('--------------------------------------------------------------------')\n",
        "      terbuka = choice(deck)\n",
        "      print('Kartu terbuka adalah kartu', terbuka)\n",
        "      tertutup = choice(deck)\n",
        "      print('Kartu tertutup telah diambil')\n",
        "      pilih = Symbol(input('upper or lower?: '))\n",
        "      kartu1 = kartu.index(terbuka)\n",
        "      kartu2 = kartu.index(tertutup)\n",
        "      \n",
        "      if kartu2 > kartu1:\n",
        "        if pilih == Symbol('upper'):\n",
        "          print('Kartu tertutup adalah {0}. Jawaban anda benar.'. format(tertutup))\n",
        "          score += 1\n",
        "        elif pilih == Symbol('lower'):\n",
        "          print(\"Kartu tertutup adalah {0}. Jawaban anda salah.\". format(tertutup))\n",
        "        else:\n",
        "          print('Anda salah input, silahkan ulang')\n",
        "        deck.remove(terbuka)\n",
        "      elif kartu2 < kartu1:\n",
        "        if pilih == Symbol('lower'):\n",
        "          print('Kartu tertutup adalah {0}. Jawaban anda benar.'. format(tertutup))\n",
        "          score += 1\n",
        "        elif pilih == Symbol('upper'):\n",
        "          print(\"Kartu tertutup adalah {0}. Jawaban anda salah.\". format(tertutup))\n",
        "        else:\n",
        "          print('Anda salah input, silahkan ulang')\n",
        "        deck.remove(terbuka)\n",
        "      elif kartu2 == kartu1:\n",
        "        print(\"Nilai kartu sama, kita lanjutkan\")\n",
        "        terbuka = tertutup\n",
        "      deck.remove(tertutup)\n",
        "  \n",
        "    print(\"Score akhir: \", (score))  \n",
        "    restart = Symbol(input('Selamat! Deck kartu sudah habis, restart? (y/n): '))\n",
        "    if restart == Symbol('n'):\n",
        "      break\n",
        "    elif restart == Symbol('y'):\n",
        "      deck = kartu"
      ],
      "execution_count": null,
      "outputs": []
    },
    {
      "cell_type": "code",
      "metadata": {
        "colab": {
          "base_uri": "https://localhost:8080/"
        },
        "id": "T1Zsy2IxJ_aE",
        "outputId": "371ce918-b055-44cd-c0e6-25e955c53f61"
      },
      "source": [
        "start()"
      ],
      "execution_count": null,
      "outputs": [
        {
          "name": "stdout",
          "output_type": "stream",
          "text": [
            "--------------------------------------------------------------------\n",
            "Kartu terbuka adalah kartu 8\n",
            "Kartu tertutup telah diambil\n",
            "upper or lower?: upper\n",
            "Kartu tertutup adalah 2. Jawaban anda salah.\n",
            "--------------------------------------------------------------------\n",
            "Kartu terbuka adalah kartu 6\n",
            "Kartu tertutup telah diambil\n",
            "upper or lower?: lower\n",
            "Kartu tertutup adalah 10. Jawaban anda salah.\n",
            "--------------------------------------------------------------------\n",
            "Kartu terbuka adalah kartu jack\n",
            "Kartu tertutup telah diambil\n",
            "upper or lower?: upper\n",
            "Kartu tertutup adalah 3. Jawaban anda salah.\n",
            "--------------------------------------------------------------------\n",
            "Kartu terbuka adalah kartu ace\n",
            "Kartu tertutup telah diambil\n",
            "upper or lower?: lower\n",
            "Kartu tertutup adalah 7. Jawaban anda salah.\n",
            "--------------------------------------------------------------------\n",
            "Kartu terbuka adalah kartu 5\n",
            "Kartu tertutup telah diambil\n",
            "upper or lower?: upper\n",
            "Nilai kartu sama, kita lanjutkan\n",
            "--------------------------------------------------------------------\n",
            "Kartu terbuka adalah kartu queen\n",
            "Kartu tertutup telah diambil\n",
            "upper or lower?: upper\n",
            "Nilai kartu sama, kita lanjutkan\n",
            "--------------------------------------------------------------------\n",
            "Kartu terbuka adalah kartu king\n",
            "Kartu tertutup telah diambil\n",
            "upper or lower?: lower\n",
            "Kartu tertutup adalah 9. Jawaban anda benar.\n",
            "Score akhir:  1\n",
            "Selamat! Deck kartu sudah habis, restart? (y/n): n\n"
          ]
        }
      ]
    },
    {
      "cell_type": "code",
      "metadata": {
        "id": "w4TIm-U1L43g"
      },
      "source": [
        ""
      ],
      "execution_count": null,
      "outputs": []
    }
  ]
}